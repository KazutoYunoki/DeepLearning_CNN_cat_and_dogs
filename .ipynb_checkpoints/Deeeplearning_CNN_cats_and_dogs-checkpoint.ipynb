{
 "cells": [
  {
   "cell_type": "code",
   "execution_count": null,
   "metadata": {
    "colab": {
     "base_uri": "https://localhost:8080/",
     "height": 68
    },
    "colab_type": "code",
    "executionInfo": {
     "elapsed": 3751,
     "status": "ok",
     "timestamp": 1579243772209,
     "user": {
      "displayName": "kazu yuki",
      "photoUrl": "https://lh3.googleusercontent.com/a-/AAuE7mCe42ICg9N6wquVSwCiK1C2AyjvAa37uwyTqkv0dg=s64",
      "userId": "03192608338936815187"
     },
     "user_tz": -540
    },
    "id": "iiXe5J-SVzz5",
    "outputId": "21412209-54e3-49df-f131-bd95d654fcde"
   },
   "outputs": [],
   "source": [
    "!ls -sl"
   ]
  },
  {
   "cell_type": "code",
   "execution_count": null,
   "metadata": {
    "colab": {},
    "colab_type": "code",
    "id": "elCNce_fWdge"
   },
   "outputs": [],
   "source": [
    "!unzip cats_and_dogs_small.zip"
   ]
  },
  {
   "cell_type": "code",
   "execution_count": null,
   "metadata": {
    "colab": {},
    "colab_type": "code",
    "id": "mnxlV0YLYhI0"
   },
   "outputs": [],
   "source": [
    "#input image dir\n",
    "import os, shutil\n",
    "base_dir = 'cats_and_dogs_small'\n",
    "train_dir = os.path.join(base_dir, 'train')\n",
    "validation_dir = os.path.join(base_dir, 'validation')\n",
    "test_dir = os.path.join(base_dir, 'test')\n",
    "train_cats_dir = os.path.join(train_dir, 'cats')\n",
    "train_dogs_dir = os.path.join(validation_dir, 'dogs')\n",
    "test_cats_dir = os.path.join(test_dir, 'cats')\n",
    "test_dogs_dir = os.path.join(test_dir, 'dogs')"
   ]
  },
  {
   "cell_type": "code",
   "execution_count": null,
   "metadata": {
    "colab": {
     "base_uri": "https://localhost:8080/",
     "height": 253
    },
    "colab_type": "code",
    "executionInfo": {
     "elapsed": 1763,
     "status": "ok",
     "timestamp": 1579659983078,
     "user": {
      "displayName": "kazu yuki",
      "photoUrl": "https://lh3.googleusercontent.com/a-/AAuE7mCe42ICg9N6wquVSwCiK1C2AyjvAa37uwyTqkv0dg=s64",
      "userId": "03192608338936815187"
     },
     "user_tz": -540
    },
    "id": "iNw82yGbYpRU",
    "outputId": "95a6579c-84a8-4176-ebbb-8541f7d145fd"
   },
   "outputs": [],
   "source": [
    "#input keras and create CNN\n",
    "from keras import layers\n",
    "from keras import models\n",
    "model = models.Sequential()\n",
    "model.add(layers.Conv2D(32, (3,3), activation='relu', input_shape=(150,150,3)))\n",
    "model.add(layers.MaxPooling2D((2,2)))\n",
    "model.add(layers.Conv2D(64, (3,3), activation='relu'))\n",
    "model.add(layers.MaxPooling2D((2,2)))\n",
    "model.add(layers.Conv2D(128, (3,3), activation='relu',))\n",
    "model.add(layers.MaxPooling2D((2,2)))\n",
    "model.add(layers.Conv2D(128, (3,3), activation='relu',))\n",
    "model.add(layers.MaxPooling2D((2,2)))"
   ]
  },
  {
   "cell_type": "code",
   "execution_count": null,
   "metadata": {
    "colab": {
     "base_uri": "https://localhost:8080/",
     "height": 425
    },
    "colab_type": "code",
    "executionInfo": {
     "elapsed": 589,
     "status": "ok",
     "timestamp": 1579659998944,
     "user": {
      "displayName": "kazu yuki",
      "photoUrl": "https://lh3.googleusercontent.com/a-/AAuE7mCe42ICg9N6wquVSwCiK1C2AyjvAa37uwyTqkv0dg=s64",
      "userId": "03192608338936815187"
     },
     "user_tz": -540
    },
    "id": "WIYdi4uTaMxK",
    "outputId": "e0da1fc8-3b14-4988-f0fe-4c883d486018"
   },
   "outputs": [],
   "source": [
    "model.summary()"
   ]
  },
  {
   "cell_type": "code",
   "execution_count": null,
   "metadata": {
    "colab": {},
    "colab_type": "code",
    "id": "zeTsQWvyblGD"
   },
   "outputs": [],
   "source": [
    "model.add(layers.Flatten())\n",
    "model.add(layers.Dense(512, activation='relu'))\n",
    "model.add(layers.Dense(1, activation='sigmoid'))"
   ]
  },
  {
   "cell_type": "code",
   "execution_count": null,
   "metadata": {
    "colab": {
     "base_uri": "https://localhost:8080/",
     "height": 527
    },
    "colab_type": "code",
    "executionInfo": {
     "elapsed": 512,
     "status": "ok",
     "timestamp": 1579660003354,
     "user": {
      "displayName": "kazu yuki",
      "photoUrl": "https://lh3.googleusercontent.com/a-/AAuE7mCe42ICg9N6wquVSwCiK1C2AyjvAa37uwyTqkv0dg=s64",
      "userId": "03192608338936815187"
     },
     "user_tz": -540
    },
    "id": "NIh6rK7GK-3p",
    "outputId": "5a4c8b9e-325c-4f64-f2f8-21aa69cb0673"
   },
   "outputs": [],
   "source": [
    "model.summary()"
   ]
  },
  {
   "cell_type": "code",
   "execution_count": null,
   "metadata": {
    "colab": {
     "base_uri": "https://localhost:8080/",
     "height": 156
    },
    "colab_type": "code",
    "executionInfo": {
     "elapsed": 716,
     "status": "ok",
     "timestamp": 1579660006730,
     "user": {
      "displayName": "kazu yuki",
      "photoUrl": "https://lh3.googleusercontent.com/a-/AAuE7mCe42ICg9N6wquVSwCiK1C2AyjvAa37uwyTqkv0dg=s64",
      "userId": "03192608338936815187"
     },
     "user_tz": -540
    },
    "id": "hqDE6xfoLAiH",
    "outputId": "dad09522-d7d1-4bdd-ab30-a29ba2efa7a2"
   },
   "outputs": [],
   "source": [
    "from keras import optimizers\n",
    "model.compile(loss='binary_crossentropy', optimizer=optimizers.Adam(lr=1e-4), metrics=['acc'])"
   ]
  },
  {
   "cell_type": "code",
   "execution_count": null,
   "metadata": {
    "colab": {
     "base_uri": "https://localhost:8080/",
     "height": 51
    },
    "colab_type": "code",
    "executionInfo": {
     "elapsed": 794,
     "status": "ok",
     "timestamp": 1579660009709,
     "user": {
      "displayName": "kazu yuki",
      "photoUrl": "https://lh3.googleusercontent.com/a-/AAuE7mCe42ICg9N6wquVSwCiK1C2AyjvAa37uwyTqkv0dg=s64",
      "userId": "03192608338936815187"
     },
     "user_tz": -540
    },
    "id": "XqMq76zCMFQe",
    "outputId": "665ec570-d0ea-456c-f1d3-40956839c73a"
   },
   "outputs": [],
   "source": [
    "from keras.preprocessing.image import ImageDataGenerator\n",
    "train_datagen = ImageDataGenerator(rescale=1./255)\n",
    "test_datagen = ImageDataGenerator(rescale=1./255)\n",
    "train_generator = train_datagen.flow_from_directory(\n",
    "    train_dir,\n",
    "    target_size=(150, 150),\n",
    "    batch_size=20,\n",
    "    class_mode='binary')\n",
    "validation_generator = test_datagen.flow_from_directory(\n",
    "    validation_dir,\n",
    "    target_size=(150, 150),\n",
    "    batch_size=20,\n",
    "    class_mode='binary')"
   ]
  },
  {
   "cell_type": "code",
   "execution_count": null,
   "metadata": {
    "colab": {
     "base_uri": "https://localhost:8080/",
     "height": 51
    },
    "colab_type": "code",
    "executionInfo": {
     "elapsed": 549,
     "status": "ok",
     "timestamp": 1579660027002,
     "user": {
      "displayName": "kazu yuki",
      "photoUrl": "https://lh3.googleusercontent.com/a-/AAuE7mCe42ICg9N6wquVSwCiK1C2AyjvAa37uwyTqkv0dg=s64",
      "userId": "03192608338936815187"
     },
     "user_tz": -540
    },
    "id": "FRoGhdtINC0e",
    "outputId": "286a0e61-bb01-4084-b47e-98ed643d23b6"
   },
   "outputs": [],
   "source": [
    "for data_batch, labels_batch in train_generator:\n",
    "  print('data batch shape:', data_batch.shape)\n",
    "  print('labels batch shape:', labels_batch.shape)\n",
    "  break"
   ]
  },
  {
   "cell_type": "code",
   "execution_count": null,
   "metadata": {
    "colab": {
     "base_uri": "https://localhost:8080/",
     "height": 1000
    },
    "colab_type": "code",
    "executionInfo": {
     "elapsed": 283141,
     "status": "ok",
     "timestamp": 1579660322065,
     "user": {
      "displayName": "kazu yuki",
      "photoUrl": "https://lh3.googleusercontent.com/a-/AAuE7mCe42ICg9N6wquVSwCiK1C2AyjvAa37uwyTqkv0dg=s64",
      "userId": "03192608338936815187"
     },
     "user_tz": -540
    },
    "id": "GiX2NeUBOYXY",
    "outputId": "b0a3e8eb-9fc4-46cd-da25-366cf0c68e59"
   },
   "outputs": [],
   "source": [
    "history = model.fit_generator(\n",
    "    train_generator,\n",
    "    steps_per_epoch=100,\n",
    "    epochs=30,\n",
    "    validation_data=validation_generator,\n",
    "    validation_steps=50\n",
    ")"
   ]
  },
  {
   "cell_type": "code",
   "execution_count": null,
   "metadata": {
    "colab": {},
    "colab_type": "code",
    "id": "VFo4Czy8RMvU"
   },
   "outputs": [],
   "source": [
    "model.save('cats_and_dogs_small_1.h5')"
   ]
  },
  {
   "cell_type": "code",
   "execution_count": null,
   "metadata": {
    "colab": {
     "base_uri": "https://localhost:8080/",
     "height": 545
    },
    "colab_type": "code",
    "executionInfo": {
     "elapsed": 974,
     "status": "ok",
     "timestamp": 1579660427908,
     "user": {
      "displayName": "kazu yuki",
      "photoUrl": "https://lh3.googleusercontent.com/a-/AAuE7mCe42ICg9N6wquVSwCiK1C2AyjvAa37uwyTqkv0dg=s64",
      "userId": "03192608338936815187"
     },
     "user_tz": -540
    },
    "id": "mK1jBDYiSRua",
    "outputId": "69bf03a7-e0f6-4c8c-e4a6-b41638a678fa"
   },
   "outputs": [],
   "source": [
    "import matplotlib.pyplot as plt\n",
    "\n",
    "acc = history.history['acc']\n",
    "val_acc = history.history['val_acc']\n",
    "loss = history.history['loss']\n",
    "val_loss = history.history['val_loss']\n",
    "epochs = range(len(acc))\n",
    "\n",
    "plt.plot(epochs, acc, 'bo', label='Training acc')\n",
    "plt.plot(epochs, val_acc, 'b', label='Validation acc')\n",
    "plt.title('Training and validation accuracy')\n",
    "plt.legend()\n",
    "plt.figure()\n",
    "\n",
    "plt.plot(epochs, loss, 'bo', label='Training loss')\n",
    "plt.plot(epochs, val_loss, 'b', label='Validation loss')\n",
    "plt.title('Training and validation loss')\n",
    "plt.legend()\n",
    "plt.show()"
   ]
  },
  {
   "cell_type": "code",
   "execution_count": null,
   "metadata": {
    "colab": {},
    "colab_type": "code",
    "id": "_hH88PGCTWW9"
   },
   "outputs": [],
   "source": [
    "datagen = ImageDataGenerator(\n",
    "    rotation_range = 40,\n",
    "    width_shift_range=0.2,\n",
    "    height_shift_range=0.2,\n",
    "    shear_range = 0.2,\n",
    "    zoom_range = 0.2,\n",
    "    horizontal_flip = True,\n",
    "    fill_mode ='nearest'\n",
    ")"
   ]
  },
  {
   "cell_type": "code",
   "execution_count": null,
   "metadata": {
    "colab": {
     "base_uri": "https://localhost:8080/",
     "height": 1000
    },
    "colab_type": "code",
    "executionInfo": {
     "elapsed": 1468,
     "status": "ok",
     "timestamp": 1579661103536,
     "user": {
      "displayName": "kazu yuki",
      "photoUrl": "https://lh3.googleusercontent.com/a-/AAuE7mCe42ICg9N6wquVSwCiK1C2AyjvAa37uwyTqkv0dg=s64",
      "userId": "03192608338936815187"
     },
     "user_tz": -540
    },
    "id": "7pIrJYdOHYju",
    "outputId": "a96a6fa3-8449-458c-f272-3912030e103e"
   },
   "outputs": [],
   "source": [
    "from keras.preprocessing import image\n",
    "\n",
    "fnames = [os.path.join(train_cats_dir, fname) for fname in os.listdir(train_cats_dir)]\n",
    "img_path = fnames[3]\n",
    "img = image.load_img(img_path, target_size = (150, 150))  \n",
    "x = image.img_to_array(img)\n",
    "x = x.reshape((1,) + x.shape)\n",
    "\n",
    "i = 0\n",
    "for batch in datagen.flow(x, batch_size=1):\n",
    "  plt.figure(i)\n",
    "  imgplot = plt.imshow(image.array_to_img(batch[0]))\n",
    "  i+=1\n",
    "  if i%4 == 0:\n",
    "    break\n"
   ]
  },
  {
   "cell_type": "code",
   "execution_count": null,
   "metadata": {
    "colab": {},
    "colab_type": "code",
    "id": "8RBcp1_hI4tK"
   },
   "outputs": [],
   "source": [
    "from keras import layers\n",
    "from keras import models\n",
    "new_model = models.Sequential()\n",
    "new_model.add(layers.Conv2D(64, (3,3), activation='relu', input_shape =(150, 150, 3)))\n",
    "new_model.add(layers.MaxPooling2D((3,3)))\n",
    "new_model.add(layers.Conv2D(128, (3,3), activation='relu'))\n",
    "new_model.add(layers.MaxPooling2D((2,2)))\n",
    "new_model.add(layers.Conv2D(256, (3,3), activation='relu'))\n",
    "new_model.add(layers.MaxPooling2D((2,2)))\n",
    "new_model.add(layers.Conv2D(256, (3,3), activation='relu'))\n",
    "new_model.add(layers.MaxPooling2D((2,2)))\n",
    "\n",
    "new_model.add(layers.Flatten())\n",
    "new_model.add(layers.Dropout(0.5))\n",
    "new_model.add(layers.Dense(1024, activation='relu'))\n",
    "new_model.add(layers.Dense(1, activation='sigmoid'))"
   ]
  },
  {
   "cell_type": "code",
   "execution_count": null,
   "metadata": {
    "colab": {
     "base_uri": "https://localhost:8080/",
     "height": 561
    },
    "colab_type": "code",
    "executionInfo": {
     "elapsed": 1178,
     "status": "ok",
     "timestamp": 1579832765282,
     "user": {
      "displayName": "kazu yuki",
      "photoUrl": "https://lh3.googleusercontent.com/a-/AAuE7mCe42ICg9N6wquVSwCiK1C2AyjvAa37uwyTqkv0dg=s64",
      "userId": "03192608338936815187"
     },
     "user_tz": -540
    },
    "id": "kno8vOdsJm5f",
    "outputId": "7265c857-92be-41f9-ed68-64335b1dbd9c"
   },
   "outputs": [],
   "source": [
    "new_model.summary()"
   ]
  },
  {
   "cell_type": "code",
   "execution_count": null,
   "metadata": {
    "colab": {},
    "colab_type": "code",
    "id": "68GcDD-WMPDK"
   },
   "outputs": [],
   "source": [
    "from keras import optimizers\n",
    "import numpy as np\n",
    "new_model.compile(loss = 'binary_crossentropy',\n",
    "                  optimizer=optimizers.Adam(lr=6.58e-05),\n",
    "                  metrics=['acc'])\n"
   ]
  },
  {
   "cell_type": "code",
   "execution_count": null,
   "metadata": {
    "colab": {},
    "colab_type": "code",
    "id": "OaQ5fonzM2Ps"
   },
   "outputs": [],
   "source": [
    "from keras.preprocessing.image import ImageDataGenerator\n",
    "train_datagen = ImageDataGenerator(\n",
    "    rescale = 1./255,\n",
    "    rotation_range = 40,\n",
    "    width_shift_range = 0.2,\n",
    "    height_shift_range = 0.2,\n",
    "    shear_range = 0.2,\n",
    "    zoom_range = 0.2,\n",
    "    horizontal_flip = True\n",
    ")\n",
    "test_datagen = ImageDataGenerator(rescale = 1./255)"
   ]
  },
  {
   "cell_type": "code",
   "execution_count": null,
   "metadata": {
    "colab": {
     "base_uri": "https://localhost:8080/",
     "height": 51
    },
    "colab_type": "code",
    "executionInfo": {
     "elapsed": 2170,
     "status": "ok",
     "timestamp": 1579832800831,
     "user": {
      "displayName": "kazu yuki",
      "photoUrl": "https://lh3.googleusercontent.com/a-/AAuE7mCe42ICg9N6wquVSwCiK1C2AyjvAa37uwyTqkv0dg=s64",
      "userId": "03192608338936815187"
     },
     "user_tz": -540
    },
    "id": "F0Hw74Z8NbQ6",
    "outputId": "e73aad73-4f84-4d1a-bfa1-74e6c4c8132d"
   },
   "outputs": [],
   "source": [
    "train_generator = train_datagen.flow_from_directory(\n",
    "    train_dir,\n",
    "    target_size = (150, 150),\n",
    "    batch_size = 32,\n",
    "    class_mode = 'binary'\n",
    ")\n",
    "validation_generator = test_datagen.flow_from_directory(\n",
    "    validation_dir,\n",
    "    target_size = (150, 150),\n",
    "    batch_size = 32,\n",
    "    class_mode = 'binary'\n",
    ")"
   ]
  },
  {
   "cell_type": "code",
   "execution_count": null,
   "metadata": {
    "colab": {
     "base_uri": "https://localhost:8080/",
     "height": 1000
    },
    "colab_type": "code",
    "executionInfo": {
     "elapsed": 2600826,
     "status": "ok",
     "timestamp": 1579835403884,
     "user": {
      "displayName": "kazu yuki",
      "photoUrl": "https://lh3.googleusercontent.com/a-/AAuE7mCe42ICg9N6wquVSwCiK1C2AyjvAa37uwyTqkv0dg=s64",
      "userId": "03192608338936815187"
     },
     "user_tz": -540
    },
    "id": "HIGrXQA1OCfD",
    "outputId": "220703bb-c5ff-4cbf-a892-e790273d5e71"
   },
   "outputs": [],
   "source": [
    "new_history = new_model.fit_generator(\n",
    "    train_generator,\n",
    "    steps_per_epoch = 100,\n",
    "    epochs = 100,\n",
    "    validation_data = validation_generator,\n",
    "    validation_steps = 50\n",
    ")"
   ]
  },
  {
   "cell_type": "code",
   "execution_count": null,
   "metadata": {
    "colab": {
     "base_uri": "https://localhost:8080/",
     "height": 51
    },
    "colab_type": "code",
    "executionInfo": {
     "elapsed": 4497,
     "status": "ok",
     "timestamp": 1579835420245,
     "user": {
      "displayName": "kazu yuki",
      "photoUrl": "https://lh3.googleusercontent.com/a-/AAuE7mCe42ICg9N6wquVSwCiK1C2AyjvAa37uwyTqkv0dg=s64",
      "userId": "03192608338936815187"
     },
     "user_tz": -540
    },
    "id": "rHunNxz-PIQG",
    "outputId": "52cd0c5a-63eb-43a6-b16c-426de275f7c4"
   },
   "outputs": [],
   "source": [
    "test_generator = test_datagen.flow_from_directory(\n",
    "    test_dir,\n",
    "    target_size = (150, 150),\n",
    "    batch_size = 20,\n",
    "    class_mode = 'binary'\n",
    ")\n",
    "'''\n",
    "test_loss, test_acc = model.evaluate_generator(test_generator, steps = 50)\n",
    "print('test acc', test_acc)\n",
    "'''\n",
    "new_test_loss, new_test_acc = new_model.evaluate_generator(test_generator, steps = 50)\n",
    "print('new test acc', new_test_acc)\n",
    "\n"
   ]
  },
  {
   "cell_type": "code",
   "execution_count": null,
   "metadata": {
    "colab": {},
    "colab_type": "code",
    "id": "ROGTv0k1b1WU"
   },
   "outputs": [],
   "source": [
    "new_model.save('cats_and_dogs_small_3.h5')"
   ]
  },
  {
   "cell_type": "code",
   "execution_count": null,
   "metadata": {
    "colab": {
     "base_uri": "https://localhost:8080/",
     "height": 582
    },
    "colab_type": "code",
    "executionInfo": {
     "elapsed": 2046,
     "status": "ok",
     "timestamp": 1579835436492,
     "user": {
      "displayName": "kazu yuki",
      "photoUrl": "https://lh3.googleusercontent.com/a-/AAuE7mCe42ICg9N6wquVSwCiK1C2AyjvAa37uwyTqkv0dg=s64",
      "userId": "03192608338936815187"
     },
     "user_tz": -540
    },
    "id": "pTah3JG5bfmJ",
    "outputId": "383a428f-ef9a-442e-c4e4-5d244b039431"
   },
   "outputs": [],
   "source": [
    "import matplotlib.pyplot as plt\n",
    "\n",
    "acc = new_history.history['acc']\n",
    "val_acc = new_history.history['val_acc']\n",
    "loss = new_history.history['loss']\n",
    "val_loss = new_history.history['val_loss']\n",
    "epochs = range(len(acc))\n",
    "\n",
    "plt.plot(epochs, acc, 'bo', label='Training acc')\n",
    "plt.plot(epochs, val_acc, 'b', label='Validation acc')\n",
    "plt.title('Training and validation accuracy')\n",
    "plt.legend()\n",
    "plt.figure()\n",
    "\n",
    "plt.plot(epochs, loss, 'bo', label='Training loss')\n",
    "plt.plot(epochs, val_loss, 'b', label='Validation loss')\n",
    "plt.title('Training and validation loss')\n",
    "plt.legend()\n",
    "plt.show()\n",
    "\n",
    "print(val_acc)"
   ]
  },
  {
   "cell_type": "markdown",
   "metadata": {
    "colab_type": "text",
    "id": "8mPj2v11M3Ex"
   },
   "source": [
    "適切なパラメータを求めるために色々計算"
   ]
  },
  {
   "cell_type": "code",
   "execution_count": null,
   "metadata": {
    "colab": {
     "base_uri": "https://localhost:8080/",
     "height": 1000
    },
    "colab_type": "code",
    "executionInfo": {
     "elapsed": 1381103,
     "status": "ok",
     "timestamp": 1579783073908,
     "user": {
      "displayName": "kazu yuki",
      "photoUrl": "https://lh3.googleusercontent.com/a-/AAuE7mCe42ICg9N6wquVSwCiK1C2AyjvAa37uwyTqkv0dg=s64",
      "userId": "03192608338936815187"
     },
     "user_tz": -540
    },
    "id": "0MU4BwiJNHC-",
    "outputId": "860127f6-f0eb-47e1-c933-119be7cd271f"
   },
   "outputs": [],
   "source": [
    "from keras import layers\n",
    "from keras import models\n",
    "for i in range(10): \n",
    "  new_model = models.Sequential()\n",
    "  new_model.add(layers.Conv2D(32, (3,3), activation='relu', input_shape =(150, 150, 3)))\n",
    "  new_model.add(layers.MaxPooling2D((2,2)))\n",
    "  new_model.add(layers.Conv2D(64, (3,3), activation='relu'))\n",
    "  new_model.add(layers.MaxPooling2D((2,2)))\n",
    "  new_model.add(layers.Conv2D(128, (3,3), activation='relu'))\n",
    "  new_model.add(layers.MaxPooling2D((2,2)))\n",
    "  new_model.add(layers.Conv2D(128, (3,3), activation='relu'))\n",
    "  new_model.add(layers.MaxPooling2D((2,2)))\n",
    "\n",
    "  new_model.add(layers.Flatten())\n",
    "  new_model.add(layers.Dropout(0.5))\n",
    "  new_model.add(layers.Dense(512, activation='relu'))\n",
    "  new_model.add(layers.Dense(1, activation='sigmoid'))\n",
    "\n",
    "  lr_rate = 10 ** np.random.uniform(-7, -4)\n",
    "  print('lr_rate:' + str(lr_rate))\n",
    "  new_model.compile(loss = 'binary_crossentropy',\n",
    "                  optimizer=optimizers.Adam(lr=lr_rate),\n",
    "                  metrics=['acc'])\n",
    "  new_history = new_model.fit_generator(\n",
    "    train_generator,\n",
    "    steps_per_epoch = 100,\n",
    "    epochs = 5,\n",
    "    validation_data = validation_generator,\n",
    "    validation_steps = 50\n",
    ")\n",
    "  val_acc = new_history.history['val_acc']\n",
    "  print('val_acc' + str(val_acc))"
   ]
  },
  {
   "cell_type": "code",
   "execution_count": null,
   "metadata": {
    "colab": {
     "base_uri": "https://localhost:8080/",
     "height": 734
    },
    "colab_type": "code",
    "executionInfo": {
     "elapsed": 503105,
     "status": "ok",
     "timestamp": 1579789656752,
     "user": {
      "displayName": "kazu yuki",
      "photoUrl": "https://lh3.googleusercontent.com/a-/AAuE7mCe42ICg9N6wquVSwCiK1C2AyjvAa37uwyTqkv0dg=s64",
      "userId": "03192608338936815187"
     },
     "user_tz": -540
    },
    "id": "sI27V8XeNLuk",
    "outputId": "15153fdc-c4e7-4911-8870-95dd8777a0fb"
   },
   "outputs": [],
   "source": [
    "from keras import layers\n",
    "from keras import models\n",
    "new_model = models.Sequential()\n",
    "new_model.add(layers.Conv2D(16, (3,3), activation='relu', input_shape =(150, 150, 3)))\n",
    "new_model.add(layers.MaxPooling2D((2,2)))\n",
    "new_model.add(layers.Conv2D(32, (3,3), activation='relu'))\n",
    "new_model.add(layers.MaxPooling2D((2,2)))\n",
    "new_model.add(layers.Conv2D(64, (3,3), activation='relu'))\n",
    "new_model.add(layers.MaxPooling2D((2,2)))\n",
    "new_model.add(layers.Conv2D(64, (3,3), activation='relu'))\n",
    "new_model.add(layers.MaxPooling2D((2,2)))\n",
    "\n",
    "new_model.add(layers.Flatten())\n",
    "new_model.add(layers.Dropout(0.5))\n",
    "new_model.add(layers.Dense(512, activation='relu'))\n",
    "new_model.add(layers.Dense(1, activation='sigmoid'))\n",
    "\n",
    "new_model.compile(loss = 'binary_crossentropy',\n",
    "                  optimizer=optimizers.Adam(lr=1e-4),\n",
    "                  metrics=['acc'])\n",
    " \n",
    "new_history = new_model.fit_generator(\n",
    "    train_generator,\n",
    "    steps_per_epoch = 100,\n",
    "    epochs = 20,\n",
    "    validation_data = validation_generator,\n",
    "    validation_steps = 50\n",
    ")\n",
    "val_acc = new_history.history['val_acc']\n",
    "print('val_acc' + str(val_acc))"
   ]
  },
  {
   "cell_type": "code",
   "execution_count": null,
   "metadata": {
    "colab": {
     "base_uri": "https://localhost:8080/",
     "height": 734
    },
    "colab_type": "code",
    "executionInfo": {
     "elapsed": 545029,
     "status": "ok",
     "timestamp": 1579789086714,
     "user": {
      "displayName": "kazu yuki",
      "photoUrl": "https://lh3.googleusercontent.com/a-/AAuE7mCe42ICg9N6wquVSwCiK1C2AyjvAa37uwyTqkv0dg=s64",
      "userId": "03192608338936815187"
     },
     "user_tz": -540
    },
    "id": "aLtRzzXQdEX_",
    "outputId": "b46615e8-5204-4de3-f1eb-ed23352c0e54"
   },
   "outputs": [],
   "source": [
    "from keras import layers\n",
    "from keras import models\n",
    "new_model = models.Sequential()\n",
    "new_model.add(layers.Conv2D(64, (3,3), activation='relu', input_shape =(150, 150, 3)))\n",
    "new_model.add(layers.MaxPooling2D((2,2)))\n",
    "new_model.add(layers.Conv2D(128, (3,3), activation='relu'))\n",
    "new_model.add(layers.MaxPooling2D((2,2)))\n",
    "new_model.add(layers.Conv2D(256, (3,3), activation='relu'))\n",
    "new_model.add(layers.MaxPooling2D((2,2)))\n",
    "new_model.add(layers.Conv2D(256, (3,3), activation='relu'))\n",
    "new_model.add(layers.MaxPooling2D((2,2)))\n",
    "\n",
    "new_model.add(layers.Flatten())\n",
    "new_model.add(layers.Dropout(0.5))\n",
    "new_model.add(layers.Dense(512, activation='relu'))\n",
    "new_model.add(layers.Dense(1, activation='sigmoid'))\n",
    "\n",
    "new_model.compile(loss = 'binary_crossentropy',\n",
    "                  optimizer=optimizers.Adam(lr=1e-4),\n",
    "                  metrics=['acc'])\n",
    " \n",
    "new_history = new_model.fit_generator(\n",
    "    train_generator,\n",
    "    steps_per_epoch = 100,\n",
    "    epochs = 20,\n",
    "    validation_data = validation_generator,\n",
    "    validation_steps = 50\n",
    ")\n",
    "val_acc = new_history.history['val_acc']\n",
    "print('val_acc' + str(val_acc))"
   ]
  },
  {
   "cell_type": "code",
   "execution_count": null,
   "metadata": {
    "colab": {},
    "colab_type": "code",
    "id": "hMvzPg2OvB41"
   },
   "outputs": [],
   "source": []
  },
  {
   "cell_type": "markdown",
   "metadata": {
    "colab_type": "text",
    "id": "5uTKFWss6uep"
   },
   "source": []
  },
  {
   "cell_type": "code",
   "execution_count": null,
   "metadata": {
    "colab": {},
    "colab_type": "code",
    "id": "21eissCF6y5p"
   },
   "outputs": [],
   "source": []
  }
 ],
 "metadata": {
  "accelerator": "GPU",
  "colab": {
   "authorship_tag": "ABX9TyOAiHE7DlXfwPIgO9LCYmch",
   "collapsed_sections": [],
   "name": "Practice.ipynb",
   "provenance": []
  },
  "kernelspec": {
   "display_name": "base",
   "language": "python",
   "name": "python3"
  },
  "language_info": {
   "codemirror_mode": {
    "name": "ipython",
    "version": 3
   },
   "file_extension": ".py",
   "mimetype": "text/x-python",
   "name": "python",
   "nbconvert_exporter": "python",
   "pygments_lexer": "ipython3",
   "version": "3.7.4"
  }
 },
 "nbformat": 4,
 "nbformat_minor": 1
}
